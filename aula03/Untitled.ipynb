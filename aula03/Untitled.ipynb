{
 "cells": [
  {
   "cell_type": "code",
   "execution_count": 21,
   "id": "cb1024c4-1f9c-4897-8eb5-6159f1deb0ea",
   "metadata": {},
   "outputs": [],
   "source": [
    "lista = [5,7,10,1,2,17,23]\n",
    "v = 3\n",
    "def busca (v, lista):\n",
    "    for i in range (len(lista)):\n",
    "        if lista [i] == v:\n",
    "            return i\n",
    "    return -1\n",
    "\n",
    "   "
   ]
  },
  {
   "cell_type": "code",
   "execution_count": null,
   "id": "13df3b3d-6e83-46a2-b072-81658117776d",
   "metadata": {},
   "outputs": [],
   "source": []
  }
 ],
 "metadata": {
  "kernelspec": {
   "display_name": "Python [conda env:base] *",
   "language": "python",
   "name": "conda-base-py"
  },
  "language_info": {
   "codemirror_mode": {
    "name": "ipython",
    "version": 3
   },
   "file_extension": ".py",
   "mimetype": "text/x-python",
   "name": "python",
   "nbconvert_exporter": "python",
   "pygments_lexer": "ipython3",
   "version": "3.12.7"
  }
 },
 "nbformat": 4,
 "nbformat_minor": 5
}
