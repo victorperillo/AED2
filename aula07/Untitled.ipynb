{
 "cells": [
  {
   "cell_type": "code",
   "execution_count": null,
   "id": "a859055c-a47d-4598-84ae-dd0154f60d60",
   "metadata": {},
   "outputs": [],
   "source": [
    "def atendimento_cliente_banco\n",
    "    if fila:\n",
    "        cliente = fila\n",
    "        print(f'Realizando atendimento: {cliente}')\n",
    "else:\n",
    "    print('Não tem clientes na fila')\n",
    "    "
   ]
  }
 ],
 "metadata": {
  "kernelspec": {
   "display_name": "Python [conda env:base] *",
   "language": "python",
   "name": "conda-base-py"
  },
  "language_info": {
   "codemirror_mode": {
    "name": "ipython",
    "version": 3
   },
   "file_extension": ".py",
   "mimetype": "text/x-python",
   "name": "python",
   "nbconvert_exporter": "python",
   "pygments_lexer": "ipython3",
   "version": "3.12.7"
  }
 },
 "nbformat": 4,
 "nbformat_minor": 5
}
